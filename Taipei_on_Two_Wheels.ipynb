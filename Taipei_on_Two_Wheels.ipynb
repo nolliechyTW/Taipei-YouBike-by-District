{
  "nbformat": 4,
  "nbformat_minor": 0,
  "metadata": {
    "colab": {
      "provenance": [],
      "toc_visible": true,
      "authorship_tag": "ABX9TyPbB/F+MTvWgZuKa/gEyyL1",
      "include_colab_link": true
    },
    "kernelspec": {
      "name": "python3",
      "display_name": "Python 3"
    },
    "language_info": {
      "name": "python"
    }
  },
  "cells": [
    {
      "cell_type": "markdown",
      "metadata": {
        "id": "view-in-github",
        "colab_type": "text"
      },
      "source": [
        "<a href=\"https://colab.research.google.com/github/nolliechyTW/Taipei-YouBike-by-District/blob/main/Taipei_on_Two_Wheels.ipynb\" target=\"_parent\"><img src=\"https://colab.research.google.com/assets/colab-badge.svg\" alt=\"Open In Colab\"/></a>"
      ]
    },
    {
      "cell_type": "code",
      "execution_count": 7,
      "metadata": {
        "colab": {
          "base_uri": "https://localhost:8080/"
        },
        "id": "q8GiodY-AUyj",
        "outputId": "96f69d24-3939-4bbd-d23d-caee82d58222"
      },
      "outputs": [
        {
          "output_type": "stream",
          "name": "stdout",
          "text": [
            "<class 'pandas.core.frame.DataFrame'>\n",
            "RangeIndex: 1211 entries, 0 to 1210\n",
            "Data columns (total 15 columns):\n",
            " #   Column                      Non-Null Count  Dtype  \n",
            "---  ------                      --------------  -----  \n",
            " 0   Stop Name (CN)              1211 non-null   object \n",
            " 1   Total Amount                1211 non-null   int64  \n",
            " 2   Available Amount to Rent    1211 non-null   int64  \n",
            " 3   District(cn)                1211 non-null   object \n",
            " 4   Lat                         1211 non-null   float64\n",
            " 5   Lng                         1211 non-null   float64\n",
            " 6   Address(CN)                 1211 non-null   object \n",
            " 7   District                    1211 non-null   object \n",
            " 8   Stop Name                   1211 non-null   object \n",
            " 9   Available Amount to Return  1211 non-null   int64  \n",
            " 10  Act                         1211 non-null   object \n",
            " 11  Src Update Time             1211 non-null   object \n",
            " 12  Update Time                 1211 non-null   object \n",
            " 13  Info Time                   1211 non-null   object \n",
            " 14  Info Date                   1211 non-null   object \n",
            "dtypes: float64(2), int64(3), object(10)\n",
            "memory usage: 142.0+ KB\n",
            "                Stop Name (CN)  Total Amount  Available Amount to Rent  \\\n",
            "0           YouBike2.0_捷運科技大樓站            28                         0   \n",
            "1       YouBike2.0_復興南路二段273號前            21                         2   \n",
            "2         YouBike2.0_國北教大實小東側門            16                         0   \n",
            "3            YouBike2.0_和平公園東側            11                         0   \n",
            "4         YouBike2.0_辛亥復興路口西北側            16                         2   \n",
            "...                        ...           ...                       ...   \n",
            "1206      YouBike2.0_臺大總圖書館西南側            30                         6   \n",
            "1207        YouBike2.0_臺大黑森林西側            20                         3   \n",
            "1208        YouBike2.0_臺大獸醫館南側            24                        15   \n",
            "1209      YouBike2.0_臺大新體育館東南側            40                        10   \n",
            "1210  YouBike2.0_臺大明達館北側(員工宿舍)            18                         1   \n",
            "\n",
            "     District(cn)       Lat        Lng    Address(CN)    District  \\\n",
            "0             大安區  25.02605  121.54360    復興南路二段235號前  Daan Dist.   \n",
            "1             大安區  25.02565  121.54357   復興南路二段273號西側  Daan Dist.   \n",
            "2             大安區  25.02429  121.54124    和平東路二段96巷7號  Daan Dist.   \n",
            "3             大安區  25.02351  121.54282  和平東路二段118巷33號  Daan Dist.   \n",
            "4             大安區  25.02153  121.54299     復興南路二段368號  Daan Dist.   \n",
            "...           ...       ...        ...            ...         ...   \n",
            "1206         臺大專區  25.01690  121.54031       臺大圖書館西南側    NTU Dist   \n",
            "1207         臺大專區  25.01995  121.54347        臺大霖澤館南側    NTU Dist   \n",
            "1208         臺大專區  25.01791  121.54242       臺大獸醫系館南側    NTU Dist   \n",
            "1209         臺大專區  25.02112  121.53591        臺大體育館東側    NTU Dist   \n",
            "1210       臺大公館校區  25.01816  121.54469       明達館北側前空地    NTU Dist   \n",
            "\n",
            "                                              Stop Name  \\\n",
            "0                  YouBike2.0_MRT Technology Bldg. Sta.   \n",
            "1              YouBike2.0_No.273， Sec. 2， Fuxing S. Rd.   \n",
            "2     YouBike2.0_NTUE Experiment Elementary School (...   \n",
            "3                         YouBike2.0_Heping Park (East)   \n",
            "4     YouBike2.0_Xinhai Fuxing Rd. Intersection (Nor...   \n",
            "...                                                 ...   \n",
            "1206             YouBike2.0_NTU Main Library(Southwest)   \n",
            "1207                  YouBike2.0_NTU Black Forest(West)   \n",
            "1208  YouBike2.0_NTU Dept. of Veterinary Medicine(So...   \n",
            "1209            YouBike2.0_NTU Sports Center(Southeast)   \n",
            "1210    YouBike2.0_NTU Ming - Da Hall (Staff Dormitory)   \n",
            "\n",
            "      Available Amount to Return Act      Src Update Time  \\\n",
            "0                             28   1  2022-10-28 09:52:13   \n",
            "1                             19   1  2022-10-28 09:52:13   \n",
            "2                             15   1  2022-10-28 09:52:13   \n",
            "3                             11   1  2022-10-28 09:52:13   \n",
            "4                             14   1  2022-10-28 09:52:13   \n",
            "...                          ...  ..                  ...   \n",
            "1206                          24   1  2022-10-28 09:52:13   \n",
            "1207                          17   1  2022-10-28 09:52:13   \n",
            "1208                           9   1  2022-10-28 09:52:13   \n",
            "1209                          30   1  2022-10-28 09:52:13   \n",
            "1210                          17   1  2022-10-28 09:52:13   \n",
            "\n",
            "              Update Time            Info Time   Info Date  \n",
            "0     2022-10-28 09:52:24  2022-10-28 09:50:39  2022-10-28  \n",
            "1     2022-10-28 09:52:24  2022-10-28 09:51:38  2022-10-28  \n",
            "2     2022-10-28 09:52:24  2022-10-28 09:34:04  2022-10-28  \n",
            "3     2022-10-28 09:52:24  2022-10-28 09:30:18  2022-10-28  \n",
            "4     2022-10-28 09:52:24  2022-10-28 09:51:38  2022-10-28  \n",
            "...                   ...                  ...         ...  \n",
            "1206  2022-10-28 09:52:24  2022-10-28 09:37:12  2022-10-28  \n",
            "1207  2022-10-28 09:52:24  2022-10-28 09:49:17  2022-10-28  \n",
            "1208  2022-10-28 09:52:24  2022-10-28 09:50:39  2022-10-28  \n",
            "1209  2022-10-28 09:52:24  2022-10-28 09:51:38  2022-10-28  \n",
            "1210  2022-10-28 09:52:24  2022-10-28 09:51:04  2022-10-28  \n",
            "\n",
            "[1211 rows x 15 columns]\n",
            "Mounted at /content/drive\n"
          ]
        }
      ],
      "source": [
        "import requests\n",
        "import pandas as pd\n",
        "from google.colab import drive\n",
        "\n",
        "# observe data from url; data is stored in Dictionary; every elements are composed of key:value\n",
        "res = requests.get(\"https://tcgbusfs.blob.core.windows.net/dotapp/youbike/v2/youbike_immediate.json\")\n",
        "json = res.json()\n",
        "\n",
        "# save data in list instead\n",
        "YouBikeData = list(json)\n",
        "\n",
        "# use pandas to create the table\n",
        "df = pd.DataFrame(YouBikeData, columns=['sna', 'tot', 'sbi', 'sarea','lat', 'lng', 'ar', 'sareaen', 'snaen', 'bemp', 'act', 'srcUpdateTime', 'updateTime', 'infoTime', 'infoDate' ])\n",
        "df.columns = [\"Stop Name (CN)\",\"Total Amount\",\"Available Amount to Rent\",\"District(cn)\",\"Lat\", \"Lng\", \"Address(CN)\", \"District\", \"Stop Name\", \"Available Amount to Return\", \"Act\", \"Src Update Time\", \"Update Time\", \"Info Time\", \"Info Date\"]\n",
        "df.info()\n",
        "print(df)\n",
        "\n",
        "# destination url\n",
        "drive.mount('/content/drive')\n",
        "path = '/content/drive/MyDrive/TaipeionTwoWheels.csv'\n",
        "\n",
        "with open(path, 'w') as f:\n",
        "  df.to_csv(f)"
      ]
    }
  ]
}